{
 "cells": [
  {
   "cell_type": "code",
   "execution_count": 4,
   "id": "6cd31000-4657-490c-9b84-04ce19cabf18",
   "metadata": {},
   "outputs": [
    {
     "data": {
      "text/plain": [
       "4"
      ]
     },
     "execution_count": 4,
     "metadata": {},
     "output_type": "execute_result"
    }
   ],
   "source": [
    "L= [1,2,3,4,5]\n",
    "4"
   ]
  },
  {
   "cell_type": "code",
   "execution_count": 5,
   "id": "f92b5eee-2477-4641-871d-4d60167848bd",
   "metadata": {},
   "outputs": [
    {
     "name": "stdout",
     "output_type": "stream",
     "text": [
      "Hello world\n"
     ]
    }
   ],
   "source": [
    "print(\"Hello world\")"
   ]
  },
  {
   "cell_type": "code",
   "execution_count": 6,
   "id": "89633d26-e032-4a7a-90aa-bfa0c2273191",
   "metadata": {},
   "outputs": [
    {
     "data": {
      "text/plain": [
       "[1, 2, 3, 4, 5]"
      ]
     },
     "execution_count": 6,
     "metadata": {},
     "output_type": "execute_result"
    }
   ],
   "source": [
    "L"
   ]
  },
  {
   "cell_type": "code",
   "execution_count": 8,
   "id": "87a97270-70a0-4532-9788-08fcd35a4afb",
   "metadata": {},
   "outputs": [
    {
     "name": "stdout",
     "output_type": "stream",
     "text": [
      "4\n"
     ]
    }
   ],
   "source": [
    "print(L[3])"
   ]
  },
  {
   "cell_type": "code",
   "execution_count": 10,
   "id": "28056731-9ba4-4a9e-80dd-7cdbf95ffdbf",
   "metadata": {},
   "outputs": [
    {
     "name": "stdout",
     "output_type": "stream",
     "text": [
      "4\n"
     ]
    }
   ],
   "source": [
    "print(L[3])"
   ]
  },
  {
   "cell_type": "code",
   "execution_count": 11,
   "id": "e2673ae1-6409-44e3-b39b-872f99719b84",
   "metadata": {},
   "outputs": [
    {
     "name": "stdout",
     "output_type": "stream",
     "text": [
      "invalid index\n",
      "end of code\n"
     ]
    }
   ],
   "source": [
    "try:\n",
    "    print(L[7])\n",
    "\n",
    "except:\n",
    "    print(\"invalid index\")\n",
    "\n",
    "print(\"end of code\")"
   ]
  },
  {
   "cell_type": "code",
   "execution_count": 14,
   "id": "62edf034-810b-4ac3-a75a-6348b099b4b1",
   "metadata": {},
   "outputs": [
    {
     "name": "stdout",
     "output_type": "stream",
     "text": [
      "B can't be Zero\n",
      "Code executed sucessfully\n"
     ]
    }
   ],
   "source": [
    "a=10\n",
    "b=0\n",
    "\n",
    "try :\n",
    "    print(a/b)\n",
    "except:\n",
    "    print(\"B can't be Zero\")\n",
    "\n",
    "finally:\n",
    "    print(\"Code executed sucessfully\")"
   ]
  },
  {
   "cell_type": "code",
   "execution_count": 17,
   "id": "11bb4905-b771-40a4-a570-e0f544007da9",
   "metadata": {},
   "outputs": [
    {
     "name": "stdout",
     "output_type": "stream",
     "text": [
      "2.0\n",
      "Incorrect Identifier\n",
      "Code executed sucessfully\n"
     ]
    }
   ],
   "source": [
    "a=10\n",
    "b=5\n",
    "\n",
    "try :\n",
    "    print(a/b)\n",
    "    l[8]\n",
    "except ZeroDivisionError:\n",
    "    print(\"B can't be Zero\")\n",
    "except NameError:\n",
    "    print(\"Incorrect Identifier\")\n",
    "except IndexError:\n",
    "    print(\"Try to fetch the non-existing data\")\n",
    "finally:\n",
    "    print(\"Code executed sucessfully\")"
   ]
  },
  {
   "cell_type": "code",
   "execution_count": null,
   "id": "8243aff7-8da0-4ebc-a545-f8c85b38ab7a",
   "metadata": {},
   "outputs": [],
   "source": []
  }
 ],
 "metadata": {
  "kernelspec": {
   "display_name": "Python 3 (ipykernel)",
   "language": "python",
   "name": "python3"
  },
  "language_info": {
   "codemirror_mode": {
    "name": "ipython",
    "version": 3
   },
   "file_extension": ".py",
   "mimetype": "text/x-python",
   "name": "python",
   "nbconvert_exporter": "python",
   "pygments_lexer": "ipython3",
   "version": "3.12.4"
  }
 },
 "nbformat": 4,
 "nbformat_minor": 5
}
