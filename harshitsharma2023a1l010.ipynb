{
 "cells": [
  {
   "cell_type": "code",
   "execution_count": 15,
   "id": "15093584-dcef-44c2-adb4-00ec68fedebe",
   "metadata": {},
   "outputs": [
    {
     "name": "stdout",
     "output_type": "stream",
     "text": [
      "        * \n",
      "      * * \n",
      "    * * * \n",
      "  * * * * \n",
      "* * * * * \n"
     ]
    }
   ],
   "source": [
    "rows=5\n",
    "n=2*row-2\n",
    "for i in range(rows):\n",
    "    for j in range(n):\n",
    "        print(end=\" \")\n",
    "    n= n-2\n",
    "    for j in range(i+1):\n",
    "        print(\"*\",end=\" \")\n",
    "    print()"
   ]
  },
  {
   "cell_type": "code",
   "execution_count": 22,
   "id": "443d1433-703e-419c-b9bd-37d2f3ac25e5",
   "metadata": {},
   "outputs": [
    {
     "name": "stdin",
     "output_type": "stream",
     "text": [
      "Enter first number: 2\n",
      "Enter second number: 3\n"
     ]
    },
    {
     "name": "stdout",
     "output_type": "stream",
     "text": [
      "0.6666666666666666\n"
     ]
    }
   ],
   "source": [
    "def cal(n):\n",
    "    while True:\n",
    "        try:\n",
    "            return int(input (n))\n",
    "        except ValueError:\n",
    "            print(\"Invalid Value\")\n",
    "while(1):\n",
    "        try:\n",
    "            n1=cal (\"Enter first number:\")\n",
    "            n2=cal (\"Enter second number:\")\n",
    "            div=n1/n2\n",
    "            print(div)\n",
    "            break\n",
    "        except ZeroDivisionError :\n",
    "            print(\"Second number cannot be zero\") "
   ]
  },
  {
   "cell_type": "code",
   "execution_count": null,
   "id": "8b9c3f73-c8c2-4fa4-a342-084541d777ec",
   "metadata": {},
   "outputs": [],
   "source": []
  }
 ],
 "metadata": {
  "kernelspec": {
   "display_name": "Python 3 (ipykernel)",
   "language": "python",
   "name": "python3"
  },
  "language_info": {
   "codemirror_mode": {
    "name": "ipython",
    "version": 3
   },
   "file_extension": ".py",
   "mimetype": "text/x-python",
   "name": "python",
   "nbconvert_exporter": "python",
   "pygments_lexer": "ipython3",
   "version": "3.12.4"
  }
 },
 "nbformat": 4,
 "nbformat_minor": 5
}
